{
 "cells": [
  {
   "metadata": {},
   "cell_type": "markdown",
   "source": "Função simples sem parâmetro",
   "id": "cfd20ddc213579fe"
  },
  {
   "cell_type": "code",
   "id": "initial_id",
   "metadata": {
    "collapsed": true
   },
   "source": [
    "from typing import Dict, Any\n",
    "\n",
    "from jsonschema.benchmarks.const_vs_enum import value\n",
    "\n",
    "\n",
    "def hello() -> str:\n",
    "    return 'Hello World!'"
   ],
   "outputs": [],
   "execution_count": null
  },
  {
   "metadata": {},
   "cell_type": "code",
   "source": "hello()",
   "id": "86db550bb28be9b1",
   "outputs": [],
   "execution_count": null
  },
  {
   "metadata": {},
   "cell_type": "markdown",
   "source": "Função com parâmetro",
   "id": "be824031a5076d3b"
  },
  {
   "metadata": {},
   "cell_type": "code",
   "source": [
    "def hello_name(name: str) -> str:\n",
    "    return f'Hello {name}'"
   ],
   "id": "10ff0cce9d759dec",
   "outputs": [],
   "execution_count": null
  },
  {
   "metadata": {},
   "cell_type": "code",
   "source": "hello_name('Machado')",
   "id": "7bcd315659e8fe3",
   "outputs": [],
   "execution_count": null
  },
  {
   "metadata": {},
   "cell_type": "markdown",
   "source": "Função com parâmetro Padrão",
   "id": "a14a85b90ffbc237"
  },
  {
   "metadata": {},
   "cell_type": "code",
   "source": [
    "def hello_name_with_default(name: str = 'Machado') -> str:\n",
    "    return f'Hello {name}'"
   ],
   "id": "cf81d79f9038699c",
   "outputs": [],
   "execution_count": null
  },
  {
   "metadata": {},
   "cell_type": "code",
   "source": "hello_name_with_default()",
   "id": "86b6620516be932f",
   "outputs": [],
   "execution_count": null
  },
  {
   "metadata": {},
   "cell_type": "code",
   "source": "hello_name_with_default('Antonio')",
   "id": "f7e678032a19f814",
   "outputs": [],
   "execution_count": null
  },
  {
   "metadata": {},
   "cell_type": "markdown",
   "source": "Função que soma dois números",
   "id": "565d06c4da81df20"
  },
  {
   "metadata": {},
   "cell_type": "code",
   "source": [
    "def add_two_numbers(a: float, b: float) -> float:\n",
    "    return a + b"
   ],
   "id": "7fabc7aa6b96a2d",
   "outputs": [],
   "execution_count": null
  },
  {
   "metadata": {},
   "cell_type": "code",
   "source": "add_two_numbers(1.7, 8.3)",
   "id": "5cdc5aef0626318d",
   "outputs": [],
   "execution_count": null
  },
  {
   "metadata": {},
   "cell_type": "markdown",
   "source": [
    "**Função da 'oi' para várias pessoas**\n",
    "\n",
    "Quando se usa *args em uma função, estamos permitindo que ela receba um número variável de argumentos posicionais.\n",
    "\n",
    "Os argumentos são passados como uma tupla.\n",
    "\n",
    "e.g.:\n",
    "\n",
    "`hello_multiple_people('John', 'Doe', 'Caio', 'Machado', 'Isadora'`\n",
    "\n",
    "or\n",
    "\n",
    "`hello_multiple_people('Maria', 'Fernanda', 'Machado')`"
   ],
   "id": "e21d77f8fd1410a3"
  },
  {
   "metadata": {},
   "cell_type": "code",
   "source": [
    "def hello_multiple_people(*names: str) -> str:\n",
    "    list_with_names = [f'Hello, {name}!' for name in names]\n",
    "    return ' '.join(list_with_names)"
   ],
   "id": "708c8b452842b9f1",
   "outputs": [],
   "execution_count": null
  },
  {
   "metadata": {},
   "cell_type": "code",
   "source": "hello_multiple_people('Maria', 'Fernanda', 'Machado')",
   "id": "46cda95b5e52bdb5",
   "outputs": [],
   "execution_count": null
  },
  {
   "metadata": {},
   "cell_type": "markdown",
   "source": [
    "**Função recebe varios valores nomeados**\n",
    "\n",
    "Quando usamos **kwargs em uma função, estamos permitindo que ela receba um número variável de argumentos nomeados.\n",
    "\n",
    "Os argumentos são passados como um dicionário.\n",
    "\n",
    "e.g:\n",
    "\n",
    "`print_info(name=\"Alice\", age=\"25\", city=\"Wonderland\")`"
   ],
   "id": "d7036afb11b25e3f"
  },
  {
   "metadata": {},
   "cell_type": "code",
   "source": [
    "def print_info(**info) -> dict:\n",
    "    data = {}\n",
    "    for chave, valor in info.items():\n",
    "        data[chave] = valor \n",
    "    \n",
    "    return data"
   ],
   "id": "6fc246ddda20ba2e",
   "outputs": [],
   "execution_count": null
  },
  {
   "metadata": {},
   "cell_type": "code",
   "source": "print_info(name='Antonio', age=20, ig='machadoah')",
   "id": "64aa3e8055262268",
   "outputs": [],
   "execution_count": null
  },
  {
   "metadata": {},
   "cell_type": "markdown",
   "source": "Função que calcula área",
   "id": "b74c6b219bbdf71f"
  },
  {
   "metadata": {},
   "cell_type": "code",
   "source": [
    "def square(number: float) -> float:\n",
    "    return number ** 2"
   ],
   "id": "fc2019b03932d284",
   "outputs": [],
   "execution_count": null
  },
  {
   "metadata": {},
   "cell_type": "code",
   "source": "square(3)",
   "id": "8dacabe363fc75d2",
   "outputs": [],
   "execution_count": null
  },
  {
   "metadata": {},
   "cell_type": "markdown",
   "source": "Atribuindo função à uma variavel",
   "id": "6163fe3470e10eac"
  },
  {
   "metadata": {},
   "cell_type": "code",
   "source": "my_function = square",
   "id": "ff61ba3288b85228",
   "outputs": [],
   "execution_count": null
  },
  {
   "metadata": {},
   "cell_type": "code",
   "source": "my_function(10)",
   "id": "8dffb6e0b5017353",
   "outputs": [],
   "execution_count": null
  }
 ],
 "metadata": {
  "kernelspec": {
   "display_name": "Python 3",
   "language": "python",
   "name": "python3"
  },
  "language_info": {
   "codemirror_mode": {
    "name": "ipython",
    "version": 2
   },
   "file_extension": ".py",
   "mimetype": "text/x-python",
   "name": "python",
   "nbconvert_exporter": "python",
   "pygments_lexer": "ipython2",
   "version": "2.7.6"
  }
 },
 "nbformat": 4,
 "nbformat_minor": 5
}
