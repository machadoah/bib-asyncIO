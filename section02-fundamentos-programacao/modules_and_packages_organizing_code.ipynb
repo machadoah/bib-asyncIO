{
 "cells": [
  {
   "metadata": {},
   "cell_type": "markdown",
   "source": "Example 01: Importing a whole module",
   "id": "a6b2f788efdd1b70"
  },
  {
   "metadata": {},
   "cell_type": "code",
   "source": [
    "import math\n",
    "\n",
    "print(math.sqrt(25))"
   ],
   "id": "21a5cf265b413b54",
   "outputs": [],
   "execution_count": null
  },
  {
   "metadata": {},
   "cell_type": "markdown",
   "source": "Example 02: Importing Specific Attributes",
   "id": "a4a694182a56338e"
  },
  {
   "metadata": {},
   "cell_type": "code",
   "source": [
    "from datetime import datetime\n",
    "\n",
    "print(datetime.now())"
   ],
   "id": "2cffa60eb93165f6",
   "outputs": [],
   "execution_count": null
  },
  {
   "metadata": {},
   "cell_type": "markdown",
   "source": "Example 03: Importing with Aliases",
   "id": "e0baf4008cafbf3d"
  },
  {
   "metadata": {},
   "cell_type": "code",
   "source": [
    "import statistics as stats\n",
    "\n",
    "numbers = [1, 2, 3, 4, 5, 6, 7, 8, 9, 10]\n",
    "print((stats.mean(numbers)))"
   ],
   "id": "5bc4f1cd67983ab5",
   "outputs": [],
   "execution_count": null
  },
  {
   "metadata": {},
   "cell_type": "markdown",
   "source": "Importing the custom module and using its function",
   "id": "114af9c7d657a7d3"
  },
  {
   "metadata": {},
   "cell_type": "code",
   "source": [
    "import tools.my_module as my_module \n",
    "\n",
    "my_module.hello_name('Antonio')"
   ],
   "id": "12f733ea4c20b66a",
   "outputs": [],
   "execution_count": null
  },
  {
   "metadata": {},
   "cell_type": "markdown",
   "source": "Example 05: Using Built-in Modules for Practical Tasks",
   "id": "d14bb564e9922121"
  },
  {
   "metadata": {},
   "cell_type": "code",
   "source": [
    "import os\n",
    "import sys\n",
    "\n",
    "print(os.name)\n",
    "print(sys.argv)"
   ],
   "id": "e307eefc1ec9a078",
   "outputs": [],
   "execution_count": null
  },
  {
   "metadata": {},
   "cell_type": "markdown",
   "source": "Example 06: Handling Import Errors",
   "id": "4ca6416d2a3a9863"
  },
  {
   "metadata": {},
   "cell_type": "code",
   "source": [
    "try:\n",
    "    import machadoah\n",
    "except ImportError:\n",
    "    print('this module doesnt exist')"
   ],
   "id": "b544e207fc13cf41",
   "outputs": [],
   "execution_count": null
  }
 ],
 "metadata": {
  "kernelspec": {
   "display_name": "Python 3",
   "language": "python",
   "name": "python3"
  },
  "language_info": {
   "codemirror_mode": {
    "name": "ipython",
    "version": 2
   },
   "file_extension": ".py",
   "mimetype": "text/x-python",
   "name": "python",
   "nbconvert_exporter": "python",
   "pygments_lexer": "ipython2",
   "version": "2.7.6"
  }
 },
 "nbformat": 4,
 "nbformat_minor": 5
}
