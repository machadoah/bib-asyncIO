{
 "cells": [
  {
   "metadata": {},
   "cell_type": "markdown",
   "source": "Example 01: Defining and Instantiating a Class",
   "id": "5a826e9ef5b303f"
  },
  {
   "metadata": {},
   "cell_type": "code",
   "source": [
    "class Animal:\n",
    "    def __init__(self, name, sound):\n",
    "        self.name = name\n",
    "        self.sound = sound\n",
    "        \n",
    "    \n",
    "    def make_sound(self):\n",
    "        return f'{self.name} says {self.sound}'"
   ],
   "id": "a743c7d5b876b81b",
   "outputs": [],
   "execution_count": null
  },
  {
   "metadata": {},
   "cell_type": "markdown",
   "source": "Creating an instance of Animal",
   "id": "fd48a8ebeda18022"
  },
  {
   "metadata": {},
   "cell_type": "code",
   "source": [
    "dog = Animal(name='Dog', sound='AuAuAu')\n",
    "print(dog.make_sound())"
   ],
   "id": "98695bc3ef0da59f",
   "outputs": [],
   "execution_count": null
  },
  {
   "metadata": {},
   "cell_type": "markdown",
   "source": "Example 02: Inheritance",
   "id": "159409ff500dd083"
  },
  {
   "metadata": {},
   "cell_type": "code",
   "source": [
    "class Bird(Animal):\n",
    "    def __init__(self, name, sound, can_fly: bool):\n",
    "        super().__init__(name, sound)\n",
    "        self.can_fly = can_fly\n",
    "        \n",
    "    def fly(self):\n",
    "        return 'flies' if self.can_fly else 'can not fly'"
   ],
   "id": "75236d6ce8fab9cb",
   "outputs": [],
   "execution_count": null
  },
  {
   "metadata": {},
   "cell_type": "markdown",
   "source": "Creating an instance of Bird",
   "id": "324381559597b399"
  },
  {
   "metadata": {},
   "cell_type": "code",
   "source": [
    "sparrow = Bird('Sparrow','tweet',True)\n",
    "\n",
    "print(sparrow.fly())\n",
    "print(sparrow.make_sound())"
   ],
   "id": "c2271aba23547ccd",
   "outputs": [],
   "execution_count": null
  },
  {
   "metadata": {},
   "cell_type": "markdown",
   "source": "Example 03: Class Method and Static Method",
   "id": "e4fcf75be88d2c92"
  },
  {
   "metadata": {},
   "cell_type": "code",
   "source": [
    "class Rectangle:\n",
    "    def __init__(self, width, height):\n",
    "        self.width = width\n",
    "        self.height = height\n",
    "        \n",
    "    \n",
    "    def area(self):\n",
    "        return self.width * self.height\n",
    "    \n",
    "    \n",
    "    @classmethod\n",
    "    def square(cls, side_length):\n",
    "        \"\"\"\n",
    "        O método square é usado para criar um objeto Rectangle que é um quadrado. \n",
    "        Em vez de exigir que o usuário forneça tanto a largura quanto a altura (que são iguais em um quadrado). \n",
    "        \n",
    "        O método apenas pede o comprimento do lado (side_length).\n",
    "        \"\"\"\n",
    "        return cls(side_length, side_length) # Como se fosse Rectangle(side_lenght, side_lenght)\n",
    "    \n",
    "    \n",
    "    @staticmethod\n",
    "    def is_square(width, height):\n",
    "        return width == height"
   ],
   "id": "6d4fcf2ab8f073f2",
   "outputs": [],
   "execution_count": null
  },
  {
   "metadata": {},
   "cell_type": "markdown",
   "source": "Creating instances of Rectangle",
   "id": "85d2ded556720198"
  },
  {
   "metadata": {},
   "cell_type": "code",
   "source": [
    "rectangle = Rectangle(width=15, height=5)\n",
    "square = Rectangle.square(10)\n",
    "\n",
    "print(rectangle.area())\n",
    "print(square.area())"
   ],
   "id": "413d600e7224e9e8",
   "outputs": [],
   "execution_count": null
  },
  {
   "metadata": {},
   "cell_type": "code",
   "source": "Rectangle.is_square(rectangle.width, rectangle.height)",
   "id": "aa44a0607d52f919",
   "outputs": [],
   "execution_count": null
  },
  {
   "metadata": {},
   "cell_type": "code",
   "source": "Rectangle.is_square(square.width, square.height)",
   "id": "a92bb475e12b40c",
   "outputs": [],
   "execution_count": null
  }
 ],
 "metadata": {
  "kernelspec": {
   "display_name": "Python 3",
   "language": "python",
   "name": "python3"
  },
  "language_info": {
   "codemirror_mode": {
    "name": "ipython",
    "version": 2
   },
   "file_extension": ".py",
   "mimetype": "text/x-python",
   "name": "python",
   "nbconvert_exporter": "python",
   "pygments_lexer": "ipython2",
   "version": "2.7.6"
  }
 },
 "nbformat": 4,
 "nbformat_minor": 5
}
